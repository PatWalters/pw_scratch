{
 "cells": [
  {
   "cell_type": "markdown",
   "id": "bc3c50f0",
   "metadata": {},
   "source": [
    "### Introduction"
   ]
  },
  {
   "cell_type": "markdown",
   "id": "5769c09f",
   "metadata": {
    "pycharm": {
     "name": "#%% md\n"
    }
   },
   "source": [
    "This tutorial shows how to use active learning to rapidly process a large dataset using a more computationally expensive method like docking, FEP, or 3D similarity calculations.  The code here is a scaled-down version of the code in our paper [\"Optimizing active learning for free energy calculations\"](https://www.sciencedirect.com/science/article/pii/S2667318522000204).  The code is fully functional.  I just removed a few of the options and benchmarks from our original work.  "
   ]
  },
  {
   "cell_type": "markdown",
   "id": "aec40556",
   "metadata": {},
   "source": [
    "### Installation"
   ]
  },
  {
   "cell_type": "markdown",
   "id": "df5be2a6",
   "metadata": {},
   "source": [
    "Install the necessary Python libraries."
   ]
  },
  {
   "metadata": {},
   "cell_type": "markdown",
   "source": [
    "```shell\n",
    "!pip install pandas numpy seaborn useful_rdkit_utils tqdm scikit-learn 'modAL-python>=0.4.1'\n",
    "```"
   ],
   "id": "f147f89d5bb22ebd"
  },
  {
   "cell_type": "code",
   "id": "bdc5358b-51a1-4b8c-bc5d-f484eb8eab6b",
   "metadata": {
    "pycharm": {
     "name": "#%%\n"
    },
    "ExecuteTime": {
     "end_time": "2025-01-19T23:44:56.870423Z",
     "start_time": "2025-01-19T23:44:56.867155Z"
    }
   },
   "source": [
    "from operator import itemgetter\n",
    "\n",
    "import numpy as np\n",
    "import pandas as pd\n",
    "import seaborn as sns\n",
    "import sklearn.gaussian_process as gp\n",
    "import useful_rdkit_utils as uru\n",
    "from modAL.acquisition import BaseLearner\n",
    "from modAL.models import BayesianOptimizer\n",
    "from modAL.utils.data import modALinput\n",
    "from modAL.acquisition import optimizer_PI\n",
    "from rdkit import Chem\n",
    "from sklearn.gaussian_process import GaussianProcessRegressor\n",
    "from tqdm.auto import tqdm\n",
    "from rdkit.DataStructs import BulkTanimotoSimilarity"
   ],
   "outputs": [],
   "execution_count": 34
  },
  {
   "cell_type": "markdown",
   "id": "dd186288",
   "metadata": {},
   "source": [
    "Grab the necessary data"
   ]
  },
  {
   "cell_type": "code",
   "id": "101b1f0a",
   "metadata": {
    "ExecuteTime": {
     "end_time": "2025-01-19T23:18:08.604277Z",
     "start_time": "2025-01-19T23:18:08.601625Z"
    }
   },
   "source": [
    "import os, sys\n",
    "IN_COLAB = 'google.colab' in sys.modules\n",
    "\n",
    "if IN_COLAB:\n",
    "  import urllib.request\n",
    "\n",
    "  os.makedirs(\"./data\", exist_ok=True)\n",
    "  url = \"https://raw.githubusercontent.com/PatWalters/practical_cheminformatics_tutorials/main/active_learning/data/tyk2_fep.csv\"\n",
    "  filename = \"data/tyk2_fep.csv\"\n",
    "  urllib.request.urlretrieve(url,filename)"
   ],
   "outputs": [],
   "execution_count": 2
  },
  {
   "cell_type": "markdown",
   "id": "ead57862",
   "metadata": {},
   "source": [
    "### Defining an Oracle"
   ]
  },
  {
   "cell_type": "markdown",
   "id": "94f7e918",
   "metadata": {
    "pycharm": {
     "name": "#%% md\n"
    }
   },
   "source": [
    "As with the classification example, we'll define an oracle that looks up values from a dataframe.  In practice, the oracle would perform some more expensive calculation like docking, FEP, or shape overlap. "
   ]
  },
  {
   "cell_type": "code",
   "id": "ed43e30d",
   "metadata": {
    "pycharm": {
     "name": "#%%\n"
    },
    "ExecuteTime": {
     "end_time": "2025-01-20T01:09:40.688561Z",
     "start_time": "2025-01-20T01:09:40.685904Z"
    }
   },
   "source": [
    "class Oracle:\n",
    "    def __init__(self, df, col_name, invert=True):\n",
    "        self.df = df\n",
    "        self.col_name = col_name\n",
    "        self.X = np.stack(df.fp.values)\n",
    "        if invert:\n",
    "            self.df[col_name] = self.df[col_name]\n",
    "            \n",
    "    def get_X(self):\n",
    "        return self.X\n",
    "\n",
    "    def sample(self, num):\n",
    "        sample_df = self.df.sample(num)\n",
    "        return sample_df.fp.values, sample_df[self.col_name].values, sample_df.index\n",
    "\n",
    "    def get_values(self, idx_list):\n",
    "        return df[self.col_name].values[idx_list]"
   ],
   "outputs": [],
   "execution_count": 117
  },
  {
   "cell_type": "markdown",
   "id": "55e13d03",
   "metadata": {},
   "source": [
    "### Defining the Kernel Function for the Machine Learning Model"
   ]
  },
  {
   "cell_type": "markdown",
   "id": "9909b693",
   "metadata": {
    "pycharm": {
     "name": "#%% md\n"
    }
   },
   "source": [
    "When we do active learning, we have to define a machine learning models that acts as a surrogate for the more expensive calculations.  In this case, we're going to use Gaussian Process Regression (GPR) to build our regression models.  To use GPR, we need to define a kernel function. Here we calculate a kernel based on the Tanimoto similarities of the molecules."
   ]
  },
  {
   "cell_type": "code",
   "id": "669dc440-93c9-4d29-8256-4249efb8c213",
   "metadata": {
    "pycharm": {
     "name": "#%%\n"
    },
    "ExecuteTime": {
     "end_time": "2025-01-19T23:18:20.230546Z",
     "start_time": "2025-01-19T23:18:20.226687Z"
    }
   },
   "source": [
    "def calculate_similarity(a, b):\n",
    "    # Tanimoto similarity a vs. b\n",
    "    aa = np.sum(a, axis=1, keepdims=True)\n",
    "    bb = np.sum(b, axis=1, keepdims=True)\n",
    "    ab = np.matmul(a, b.T)\n",
    "    return np.true_divide(ab, aa + bb.T - ab)\n",
    "\n",
    "\n",
    "class TanimotoKernel(gp.kernels.NormalizedKernelMixin,\n",
    "                     gp.kernels.StationaryKernelMixin, gp.kernels.Kernel):\n",
    "\n",
    "    def __init__(self):\n",
    "        pass\n",
    "\n",
    "    def __call__(self, X, Y=None, eval_gradient=False):\n",
    "        assert not eval_gradient\n",
    "        if Y is None:\n",
    "            Y = X\n",
    "        return calculate_similarity(X, Y)"
   ],
   "outputs": [],
   "execution_count": 4
  },
  {
   "cell_type": "markdown",
   "id": "21cbb28d",
   "metadata": {},
   "source": [
    "### Reading the Data"
   ]
  },
  {
   "cell_type": "markdown",
   "id": "e99227cf",
   "metadata": {
    "pycharm": {
     "name": "#%% md\n"
    }
   },
   "source": [
    "Enable progress bars for the Pandas apply function."
   ]
  },
  {
   "cell_type": "code",
   "id": "a1678470-9858-43e8-8132-d9518e1dcd9d",
   "metadata": {
    "pycharm": {
     "name": "#%%\n"
    },
    "ExecuteTime": {
     "end_time": "2025-01-19T23:18:23.619507Z",
     "start_time": "2025-01-19T23:18:23.616148Z"
    }
   },
   "source": [
    "tqdm.pandas()"
   ],
   "outputs": [],
   "execution_count": 5
  },
  {
   "cell_type": "markdown",
   "id": "bae9d650",
   "metadata": {
    "pycharm": {
     "name": "#%% md\n"
    }
   },
   "source": [
    "Read the input data.  This data comes from [\"Optimizing active learning for free energy calculations\"](https://www.sciencedirect.com/science/article/pii/S2667318522000204)"
   ]
  },
  {
   "cell_type": "code",
   "id": "ce34db47-4911-41a0-9c04-5c95f56be258",
   "metadata": {
    "pycharm": {
     "name": "#%%\n"
    },
    "ExecuteTime": {
     "end_time": "2025-01-19T23:18:27.683238Z",
     "start_time": "2025-01-19T23:18:27.671433Z"
    }
   },
   "source": [
    "df = pd.read_csv(\"data/tyk2_fep.csv\")"
   ],
   "outputs": [],
   "execution_count": 6
  },
  {
   "cell_type": "markdown",
   "id": "6a4b2af7",
   "metadata": {
    "pycharm": {
     "name": "#%% md\n"
    }
   },
   "source": [
    "Take a quick look at the data."
   ]
  },
  {
   "cell_type": "code",
   "id": "e3c2c66d",
   "metadata": {
    "pycharm": {
     "name": "#%%\n"
    },
    "ExecuteTime": {
     "end_time": "2025-01-19T23:18:30.251901Z",
     "start_time": "2025-01-19T23:18:30.245247Z"
    }
   },
   "source": [
    "df"
   ],
   "outputs": [
    {
     "data": {
      "text/plain": [
       "      ligand_id                                             SMILES  dG_bind  \\\n",
       "0             0         O=C(Nc1ccnc(NC(=O)C2CCC2)c1)c1c(Cl)cccc1Cl   -2.995   \n",
       "1             1            O=C(Nc1ccnc(NC(=O)C2CCCC2)c1)c1ccccc1Cl    8.731   \n",
       "2             2             O=C(Nc1ccnc(NC(=O)C2CCC2)c1)c1ccccc1Cl    3.316   \n",
       "3             3      O=C(Nc1ccnc(NC(=O)C2CC2)c1)c1c(Cl)cc(Cl)cc1Cl   -0.070   \n",
       "4             4          O=C(Nc1ccnc(NC(=O)C2CC2)c1)c1cc(Cl)ccc1Cl    3.431   \n",
       "...         ...                                                ...      ...   \n",
       "9992       9994  COc1cc(Cl)c(C(=O)Nc2cc(Nc3cccc(C(N)=O)n3)ncc2F...    3.288   \n",
       "9993       9995      COc1ccnc(Nc2cc(NC(=O)c3cccc(Cl)c3N)c(F)cn2)c1   15.143   \n",
       "9994       9996   O=C(COCc1ccccc1)Nc1cc(NC(=O)c2cccc(Cl)c2)c(F)cn1    5.480   \n",
       "9995       9997          COc1c(F)cccc1C(=O)Nc1ccnc(NC(=O)NC(C)C)c1   10.696   \n",
       "9996       9998        O=C(Nc1cc(Nc2cncc(CO)n2)ncc1F)c1cccc(Cl)c1F    2.736   \n",
       "\n",
       "      dG_bind_err  \n",
       "0           0.455  \n",
       "1           0.462  \n",
       "2           0.448  \n",
       "3           0.462  \n",
       "4           0.449  \n",
       "...           ...  \n",
       "9992        0.512  \n",
       "9993        0.478  \n",
       "9994        0.500  \n",
       "9995        0.467  \n",
       "9996        0.474  \n",
       "\n",
       "[9997 rows x 4 columns]"
      ],
      "text/html": [
       "<div>\n",
       "<style scoped>\n",
       "    .dataframe tbody tr th:only-of-type {\n",
       "        vertical-align: middle;\n",
       "    }\n",
       "\n",
       "    .dataframe tbody tr th {\n",
       "        vertical-align: top;\n",
       "    }\n",
       "\n",
       "    .dataframe thead th {\n",
       "        text-align: right;\n",
       "    }\n",
       "</style>\n",
       "<table border=\"1\" class=\"dataframe\">\n",
       "  <thead>\n",
       "    <tr style=\"text-align: right;\">\n",
       "      <th></th>\n",
       "      <th>ligand_id</th>\n",
       "      <th>SMILES</th>\n",
       "      <th>dG_bind</th>\n",
       "      <th>dG_bind_err</th>\n",
       "    </tr>\n",
       "  </thead>\n",
       "  <tbody>\n",
       "    <tr>\n",
       "      <th>0</th>\n",
       "      <td>0</td>\n",
       "      <td>O=C(Nc1ccnc(NC(=O)C2CCC2)c1)c1c(Cl)cccc1Cl</td>\n",
       "      <td>-2.995</td>\n",
       "      <td>0.455</td>\n",
       "    </tr>\n",
       "    <tr>\n",
       "      <th>1</th>\n",
       "      <td>1</td>\n",
       "      <td>O=C(Nc1ccnc(NC(=O)C2CCCC2)c1)c1ccccc1Cl</td>\n",
       "      <td>8.731</td>\n",
       "      <td>0.462</td>\n",
       "    </tr>\n",
       "    <tr>\n",
       "      <th>2</th>\n",
       "      <td>2</td>\n",
       "      <td>O=C(Nc1ccnc(NC(=O)C2CCC2)c1)c1ccccc1Cl</td>\n",
       "      <td>3.316</td>\n",
       "      <td>0.448</td>\n",
       "    </tr>\n",
       "    <tr>\n",
       "      <th>3</th>\n",
       "      <td>3</td>\n",
       "      <td>O=C(Nc1ccnc(NC(=O)C2CC2)c1)c1c(Cl)cc(Cl)cc1Cl</td>\n",
       "      <td>-0.070</td>\n",
       "      <td>0.462</td>\n",
       "    </tr>\n",
       "    <tr>\n",
       "      <th>4</th>\n",
       "      <td>4</td>\n",
       "      <td>O=C(Nc1ccnc(NC(=O)C2CC2)c1)c1cc(Cl)ccc1Cl</td>\n",
       "      <td>3.431</td>\n",
       "      <td>0.449</td>\n",
       "    </tr>\n",
       "    <tr>\n",
       "      <th>...</th>\n",
       "      <td>...</td>\n",
       "      <td>...</td>\n",
       "      <td>...</td>\n",
       "      <td>...</td>\n",
       "    </tr>\n",
       "    <tr>\n",
       "      <th>9992</th>\n",
       "      <td>9994</td>\n",
       "      <td>COc1cc(Cl)c(C(=O)Nc2cc(Nc3cccc(C(N)=O)n3)ncc2F...</td>\n",
       "      <td>3.288</td>\n",
       "      <td>0.512</td>\n",
       "    </tr>\n",
       "    <tr>\n",
       "      <th>9993</th>\n",
       "      <td>9995</td>\n",
       "      <td>COc1ccnc(Nc2cc(NC(=O)c3cccc(Cl)c3N)c(F)cn2)c1</td>\n",
       "      <td>15.143</td>\n",
       "      <td>0.478</td>\n",
       "    </tr>\n",
       "    <tr>\n",
       "      <th>9994</th>\n",
       "      <td>9996</td>\n",
       "      <td>O=C(COCc1ccccc1)Nc1cc(NC(=O)c2cccc(Cl)c2)c(F)cn1</td>\n",
       "      <td>5.480</td>\n",
       "      <td>0.500</td>\n",
       "    </tr>\n",
       "    <tr>\n",
       "      <th>9995</th>\n",
       "      <td>9997</td>\n",
       "      <td>COc1c(F)cccc1C(=O)Nc1ccnc(NC(=O)NC(C)C)c1</td>\n",
       "      <td>10.696</td>\n",
       "      <td>0.467</td>\n",
       "    </tr>\n",
       "    <tr>\n",
       "      <th>9996</th>\n",
       "      <td>9998</td>\n",
       "      <td>O=C(Nc1cc(Nc2cncc(CO)n2)ncc1F)c1cccc(Cl)c1F</td>\n",
       "      <td>2.736</td>\n",
       "      <td>0.474</td>\n",
       "    </tr>\n",
       "  </tbody>\n",
       "</table>\n",
       "<p>9997 rows × 4 columns</p>\n",
       "</div>"
      ]
     },
     "execution_count": 7,
     "metadata": {},
     "output_type": "execute_result"
    }
   ],
   "execution_count": 7
  },
  {
   "cell_type": "markdown",
   "id": "4cec76c9",
   "metadata": {},
   "source": [
    "The data in the table is in kcal/mol, we'll convert to a pKd and call the new column \"Activity\"."
   ]
  },
  {
   "cell_type": "code",
   "id": "7ab9248b",
   "metadata": {
    "ExecuteTime": {
     "end_time": "2025-01-19T23:18:36.094907Z",
     "start_time": "2025-01-19T23:18:35.994212Z"
    }
   },
   "source": [
    "df['Activity'] = -np.log10(np.exp(df.dG_bind/0.5961)/1e-6)\n",
    "sns.displot(df.Activity);"
   ],
   "outputs": [
    {
     "data": {
      "text/plain": [
       "<Figure size 500x500 with 1 Axes>"
      ],
      "image/png": "[encoded data removed]"
     },
     "metadata": {},
     "output_type": "display_data"
    }
   ],
   "execution_count": 8
  },
  {
   "cell_type": "markdown",
   "id": "a8467530",
   "metadata": {},
   "source": [
    "### Setup for Machine Learning "
   ]
  },
  {
   "cell_type": "markdown",
   "id": "dd1beb2e",
   "metadata": {
    "pycharm": {
     "name": "#%% md\n"
    }
   },
   "source": [
    "Add an RDKit molecule column to the dataframe."
   ]
  },
  {
   "cell_type": "code",
   "id": "fe0ab8ee-8fef-48ed-b334-d9cd4ee66aff",
   "metadata": {
    "pycharm": {
     "name": "#%%\n"
    },
    "ExecuteTime": {
     "end_time": "2025-01-19T23:18:47.604583Z",
     "start_time": "2025-01-19T23:18:47.069993Z"
    }
   },
   "source": [
    "df['mol'] = df.SMILES.progress_apply(Chem.MolFromSmiles)"
   ],
   "outputs": [
    {
     "data": {
      "text/plain": [
       "  0%|          | 0/9997 [00:00<?, ?it/s]"
      ],
      "application/vnd.jupyter.widget-view+json": {
       "version_major": 2,
       "version_minor": 0,
       "model_id": "25a0ac651c974f69970ff8f53ca3dc2f"
      }
     },
     "metadata": {},
     "output_type": "display_data"
    }
   ],
   "execution_count": 9
  },
  {
   "cell_type": "markdown",
   "id": "dfa0db27",
   "metadata": {
    "pycharm": {
     "name": "#%% md\n"
    }
   },
   "source": [
    "Add a fingerprint column to the dataframe."
   ]
  },
  {
   "cell_type": "code",
   "id": "12417e8f-f9bb-4f5d-bf89-593247971303",
   "metadata": {
    "pycharm": {
     "name": "#%%\n"
    },
    "ExecuteTime": {
     "end_time": "2025-01-19T23:18:50.708052Z",
     "start_time": "2025-01-19T23:18:50.256628Z"
    }
   },
   "source": [
    "df['fp'] = df.mol.progress_apply(uru.mol2numpy_fp)"
   ],
   "outputs": [
    {
     "data": {
      "text/plain": [
       "  0%|          | 0/9997 [00:00<?, ?it/s]"
      ],
      "application/vnd.jupyter.widget-view+json": {
       "version_major": 2,
       "version_minor": 0,
       "model_id": "c497b540e6b84e19a4f3f419673dc3d6"
      }
     },
     "metadata": {},
     "output_type": "display_data"
    }
   ],
   "execution_count": 10
  },
  {
   "cell_type": "markdown",
   "id": "d399cef5",
   "metadata": {
    "pycharm": {
     "name": "#%% md\n"
    }
   },
   "source": [
    "Create a pool for fingerprints for the active learning algorithm to draw from."
   ]
  },
  {
   "cell_type": "code",
   "id": "094e011b-da93-49ab-9798-f0e733069774",
   "metadata": {
    "pycharm": {
     "name": "#%%\n"
    },
    "ExecuteTime": {
     "end_time": "2025-01-19T23:18:52.475618Z",
     "start_time": "2025-01-19T23:18:52.463354Z"
    }
   },
   "source": [
    "%%time\n",
    "X_pool = np.stack(df.fp.values)"
   ],
   "outputs": [
    {
     "name": "stdout",
     "output_type": "stream",
     "text": [
      "CPU times: user 6.4 ms, sys: 3.61 ms, total: 10 ms\n",
      "Wall time: 9 ms\n"
     ]
    }
   ],
   "execution_count": 11
  },
  {
   "cell_type": "markdown",
   "id": "3e72593d",
   "metadata": {},
   "source": [
    "### Define Helper Functions for Active Learning"
   ]
  },
  {
   "cell_type": "markdown",
   "id": "1452e741",
   "metadata": {
    "pycharm": {
     "name": "#%% md\n"
    }
   },
   "source": [
    "For the greedy search, we want to select the best scoring molecules, but we want to avoid selecting the same molecules multiple times. This function accepts a list of predictions and does the following.\n",
    "- Sort by score\n",
    "- Remove the molecules that were previously selected\n",
    "- Return the top **n_to_choose**"
   ]
  },
  {
   "cell_type": "code",
   "id": "cc13556d",
   "metadata": {
    "pycharm": {
     "name": "#%%\n"
    },
    "ExecuteTime": {
     "end_time": "2025-01-19T23:18:56.663760Z",
     "start_time": "2025-01-19T23:18:56.660651Z"
    }
   },
   "source": [
    "def find_best_idx(predicted, used, num_to_choose):\n",
    "    tmp_list = list(enumerate(predicted))\n",
    "    tmp_list.sort(key=itemgetter(1), reverse=True)\n",
    "    tmp_list = [x for x in tmp_list if x[0] not in used]\n",
    "    tmp_list = [x[0] for x in tmp_list]\n",
    "    return tmp_list[:num_to_choose]"
   ],
   "outputs": [],
   "execution_count": 12
  },
  {
   "cell_type": "markdown",
   "id": "f1df581e",
   "metadata": {
    "pycharm": {
     "name": "#%% md\n"
    }
   },
   "source": [
    "Here are a couple of acquistion functions.  The first **greedy** simply selects the **n** top scoring molecules to be evaluated by the oracle.  The second **my_max_PI** maximizes the Probability of Improvement (PI) and uses uncertainty and the scores to balance exploration and exploitation.  The git repo associated with our paper [\"Optimizing active learning for free energy calculations\"](https://www.sciencedirect.com/science/article/pii/S2667318522000204) has examples of several other acquistion functions.  TLDR from our work, the acquistion function doesn't make a huge difference. "
   ]
  },
  {
   "cell_type": "code",
   "id": "241046d8",
   "metadata": {
    "pycharm": {
     "name": "#%%\n"
    },
    "ExecuteTime": {
     "end_time": "2025-01-19T23:18:59.306202Z",
     "start_time": "2025-01-19T23:18:59.302699Z"
    }
   },
   "source": [
    "def greedy(optimizer: BaseLearner, X: modALinput, n_instances=1, used=[]):\n",
    "    res = optimizer.predict(X)\n",
    "    best_idx = find_best_idx(res, used, n_instances)\n",
    "    return best_idx, X[best_idx]\n",
    "\n",
    "def my_max_PI(optimizer: BaseLearner, X: modALinput, tradeoff: float = 0,\n",
    "           n_instances: int = 1, used = [], cycle = -1) -> np.ndarray:\n",
    "    pi = optimizer_PI(optimizer, X, tradeoff=tradeoff)\n",
    "    best_idx = find_best_idx(pi, used, n_instances)\n",
    "    return best_idx, X[best_idx]"
   ],
   "outputs": [],
   "execution_count": 13
  },
  {
   "cell_type": "markdown",
   "id": "d12bfa14",
   "metadata": {},
   "source": [
    "### A Simple Active Learning Loop\n",
    "This is the main active learning loop."
   ]
  },
  {
   "cell_type": "code",
   "id": "03d3defe-55e6-4e34-bce7-a429b3ca9acb",
   "metadata": {
    "pycharm": {
     "name": "#%%\n"
    },
    "ExecuteTime": {
     "end_time": "2025-01-20T01:10:24.423700Z",
     "start_time": "2025-01-20T01:10:19.321698Z"
    }
   },
   "source": [
    "def run_active_learning(oracle_in, n_instances=50, n_cycles=5, query_strategy=my_max_PI):\n",
    "    # select an initial random cycle\n",
    "    X_initial, y_initial, sample_idx = oracle_in.sample(n_instances)\n",
    "    # instantiate the optimizer with an estimator, training data, and an acquistion function\n",
    "    optimizer = BayesianOptimizer(estimator=GaussianProcessRegressor(kernel=TanimotoKernel()),\n",
    "                                  X_training=np.stack(X_initial), y_training=y_initial,\n",
    "                                  query_strategy=query_strategy)\n",
    "    # initialize a list of scores\n",
    "    val_list = [y_initial]\n",
    "    # keep track of which molecules we've sampled\n",
    "    used = list(sample_idx)\n",
    "    # the active learning loop\n",
    "    for i in tqdm(range(0, n_cycles)):\n",
    "        # ask the optimizer for the next set of molecules\n",
    "        query_idx, query_desc = optimizer.query(oracle_in.get_X(), n_instances=n_instances, used=used)\n",
    "        # get values from the oracle, in practice, this is where we would do the more expensive calculations\n",
    "        vals = oracle_in.get_values(query_idx)\n",
    "        # add the returned values to val_list\n",
    "        val_list.append(vals)\n",
    "        # keep track of the molecules we've used\n",
    "        used += query_idx\n",
    "        # update the optimizer with the new values\n",
    "        optimizer.teach(query_desc, vals)\n",
    "    return val_list, used\n",
    "\n"
   ],
   "outputs": [
    {
     "data": {
      "text/plain": [
       "  0%|          | 0/5 [00:00<?, ?it/s]"
      ],
      "application/vnd.jupyter.widget-view+json": {
       "version_major": 2,
       "version_minor": 0,
       "model_id": "96f243a0a1044c43b7369d28d3c5093d"
      }
     },
     "metadata": {},
     "output_type": "display_data"
    }
   ],
   "execution_count": 118
  },
  {
   "metadata": {},
   "cell_type": "markdown",
   "source": [
    "### Define the Oracle and Run the Active Learning\n",
    "In this case the oracle is just a lookup table.  In practice, the oracle would be a more expensive calculation like docking, FEP, or shape overlap."
   ],
   "id": "c7df4657dff2dc92"
  },
  {
   "metadata": {},
   "cell_type": "code",
   "outputs": [],
   "execution_count": null,
   "source": [
    "value_column = \"Activity\"\n",
    "oracle = Oracle(df, value_column)\n",
    "val_list, used = run_active_learning(oracle, n_instances=50, n_cycles=5, query_strategy=my_max_PI)"
   ],
   "id": "24f6d917fc3298a2"
  },
  {
   "cell_type": "markdown",
   "id": "eda89042",
   "metadata": {},
   "source": [
    "### Analyze Active Learning Results\n",
    "Let's see how many of the top 100 molecules we found."
   ]
  },
  {
   "cell_type": "code",
   "id": "054caae0",
   "metadata": {
    "pycharm": {
     "name": "#%%\n"
    },
    "ExecuteTime": {
     "end_time": "2025-01-20T01:10:28.684868Z",
     "start_time": "2025-01-20T01:10:28.678654Z"
    }
   },
   "source": [
    "# sort the initial dataframe by score\n",
    "ref_df = df.sort_values(value_column, ascending=False).head(100).copy()\n",
    "# create a new dataframe with the selected molecules and sort by score\n",
    "pick_df = df.iloc[used].sort_values(value_column, ascending=False).head(100).copy()\n",
    "# merge the two dataframes to see how many molecules are in common\n",
    "len(ref_df.merge(pick_df, on=\"ligand_id\"))"
   ],
   "outputs": [
    {
     "data": {
      "text/plain": [
       "52"
      ]
     },
     "execution_count": 119,
     "metadata": {},
     "output_type": "execute_result"
    }
   ],
   "execution_count": 119
  },
  {
   "cell_type": "markdown",
   "id": "197498dd",
   "metadata": {
    "pycharm": {
     "name": "#%% md\n"
    }
   },
   "source": [
    "Let's look at how the scores were distributed across the active learning cycles. First we need to put the data in a dataframe."
   ]
  },
  {
   "cell_type": "code",
   "id": "1904073c",
   "metadata": {
    "pycharm": {
     "name": "#%%\n"
    },
    "ExecuteTime": {
     "end_time": "2025-01-20T01:10:31.991388Z",
     "start_time": "2025-01-20T01:10:31.984285Z"
    }
   },
   "source": [
    "res_list = []\n",
    "for idx, v in enumerate(val_list):\n",
    "    res_list += [(idx, x) for x in v]\n",
    "res_df = pd.DataFrame(res_list, columns=[\"cycle\", value_column])\n",
    "# add row numbers for the selected molecules\n",
    "res_df['mol_idx'] = used\n",
    "# add the SMILES for the selected molecules \n",
    "res_df['SMILES'] = df.SMILES.values[used]\n",
    "res_df['ligand_id'] = df.ligand_id.values[used]\n",
    "# reorder the columns in res_df\n",
    "res_df = res_df[['SMILES','ligand_id','cycle','mol_idx','Activity']]\n",
    "res_df"
   ],
   "outputs": [
    {
     "data": {
      "text/plain": [
       "                                                SMILES  ligand_id  cycle  \\\n",
       "0    Cc1cc(Cl)c(C(=O)Nc2ccnc(NC(=O)C3CC(=O)C3)c2)c(...        440      0   \n",
       "1              CC(C)C(=O)Nc1cc(NC(=O)c2cccc(N)c2F)ccn1       8109      0   \n",
       "2         O=C(Nc1cc(NC(=O)c2cccc(Cl)c2)ccn1)NC1CC(O)C1       1849      0   \n",
       "3            O=C(Nc1cc(NC(=O)C2CCOC2)ncc1F)c1cccc(F)c1       3555      0   \n",
       "4            O=C(Nc1ccnc(Nc2ccncc2)c1)c1c(F)ccc(F)c1Cl       3088      0   \n",
       "..                                                 ...        ...    ...   \n",
       "295  Cc1ccc(Cl)c(C(=O)Nc2ccnc(Nc3cc(C)nc(N4CC(O)C4)...       7879      5   \n",
       "296       CC(C)NC(=O)Nc1cc(NC(=O)c2cc(N)ccc2Cl)c(F)cn1       8703      5   \n",
       "297  CCc1cc(Nc2cc(NC(=O)c3cc(N)ccc3Cl)ccn2)nc(NC(C)...       8237      5   \n",
       "298              O=C(Nc1ccnc(Nc2nccs2)c1)c1cc(O)ccc1Cl       5662      5   \n",
       "299               O=C(Nc1ccnc(Nc2nccs2)c1)c1c(F)cccc1F       9066      5   \n",
       "\n",
       "     mol_idx   Activity  \n",
       "0        440 -10.248232  \n",
       "1       8109 -13.249170  \n",
       "2       1849  -9.014780  \n",
       "3       3555 -14.949628  \n",
       "4       3088  -1.670169  \n",
       "..       ...        ...  \n",
       "295     7879  -3.122917  \n",
       "296     8703  -2.550998  \n",
       "297     8237   4.353563  \n",
       "298     5662  -4.572023  \n",
       "299     9066  -5.056515  \n",
       "\n",
       "[300 rows x 5 columns]"
      ],
      "text/html": [
       "<div>\n",
       "<style scoped>\n",
       "    .dataframe tbody tr th:only-of-type {\n",
       "        vertical-align: middle;\n",
       "    }\n",
       "\n",
       "    .dataframe tbody tr th {\n",
       "        vertical-align: top;\n",
       "    }\n",
       "\n",
       "    .dataframe thead th {\n",
       "        text-align: right;\n",
       "    }\n",
       "</style>\n",
       "<table border=\"1\" class=\"dataframe\">\n",
       "  <thead>\n",
       "    <tr style=\"text-align: right;\">\n",
       "      <th></th>\n",
       "      <th>SMILES</th>\n",
       "      <th>ligand_id</th>\n",
       "      <th>cycle</th>\n",
       "      <th>mol_idx</th>\n",
       "      <th>Activity</th>\n",
       "    </tr>\n",
       "  </thead>\n",
       "  <tbody>\n",
       "    <tr>\n",
       "      <th>0</th>\n",
       "      <td>Cc1cc(Cl)c(C(=O)Nc2ccnc(NC(=O)C3CC(=O)C3)c2)c(...</td>\n",
       "      <td>440</td>\n",
       "      <td>0</td>\n",
       "      <td>440</td>\n",
       "      <td>-10.248232</td>\n",
       "    </tr>\n",
       "    <tr>\n",
       "      <th>1</th>\n",
       "      <td>CC(C)C(=O)Nc1cc(NC(=O)c2cccc(N)c2F)ccn1</td>\n",
       "      <td>8109</td>\n",
       "      <td>0</td>\n",
       "      <td>8109</td>\n",
       "      <td>-13.249170</td>\n",
       "    </tr>\n",
       "    <tr>\n",
       "      <th>2</th>\n",
       "      <td>O=C(Nc1cc(NC(=O)c2cccc(Cl)c2)ccn1)NC1CC(O)C1</td>\n",
       "      <td>1849</td>\n",
       "      <td>0</td>\n",
       "      <td>1849</td>\n",
       "      <td>-9.014780</td>\n",
       "    </tr>\n",
       "    <tr>\n",
       "      <th>3</th>\n",
       "      <td>O=C(Nc1cc(NC(=O)C2CCOC2)ncc1F)c1cccc(F)c1</td>\n",
       "      <td>3555</td>\n",
       "      <td>0</td>\n",
       "      <td>3555</td>\n",
       "      <td>-14.949628</td>\n",
       "    </tr>\n",
       "    <tr>\n",
       "      <th>4</th>\n",
       "      <td>O=C(Nc1ccnc(Nc2ccncc2)c1)c1c(F)ccc(F)c1Cl</td>\n",
       "      <td>3088</td>\n",
       "      <td>0</td>\n",
       "      <td>3088</td>\n",
       "      <td>-1.670169</td>\n",
       "    </tr>\n",
       "    <tr>\n",
       "      <th>...</th>\n",
       "      <td>...</td>\n",
       "      <td>...</td>\n",
       "      <td>...</td>\n",
       "      <td>...</td>\n",
       "      <td>...</td>\n",
       "    </tr>\n",
       "    <tr>\n",
       "      <th>295</th>\n",
       "      <td>Cc1ccc(Cl)c(C(=O)Nc2ccnc(Nc3cc(C)nc(N4CC(O)C4)...</td>\n",
       "      <td>7879</td>\n",
       "      <td>5</td>\n",
       "      <td>7879</td>\n",
       "      <td>-3.122917</td>\n",
       "    </tr>\n",
       "    <tr>\n",
       "      <th>296</th>\n",
       "      <td>CC(C)NC(=O)Nc1cc(NC(=O)c2cc(N)ccc2Cl)c(F)cn1</td>\n",
       "      <td>8703</td>\n",
       "      <td>5</td>\n",
       "      <td>8703</td>\n",
       "      <td>-2.550998</td>\n",
       "    </tr>\n",
       "    <tr>\n",
       "      <th>297</th>\n",
       "      <td>CCc1cc(Nc2cc(NC(=O)c3cc(N)ccc3Cl)ccn2)nc(NC(C)...</td>\n",
       "      <td>8237</td>\n",
       "      <td>5</td>\n",
       "      <td>8237</td>\n",
       "      <td>4.353563</td>\n",
       "    </tr>\n",
       "    <tr>\n",
       "      <th>298</th>\n",
       "      <td>O=C(Nc1ccnc(Nc2nccs2)c1)c1cc(O)ccc1Cl</td>\n",
       "      <td>5662</td>\n",
       "      <td>5</td>\n",
       "      <td>5662</td>\n",
       "      <td>-4.572023</td>\n",
       "    </tr>\n",
       "    <tr>\n",
       "      <th>299</th>\n",
       "      <td>O=C(Nc1ccnc(Nc2nccs2)c1)c1c(F)cccc1F</td>\n",
       "      <td>9066</td>\n",
       "      <td>5</td>\n",
       "      <td>9066</td>\n",
       "      <td>-5.056515</td>\n",
       "    </tr>\n",
       "  </tbody>\n",
       "</table>\n",
       "<p>300 rows × 5 columns</p>\n",
       "</div>"
      ]
     },
     "execution_count": 120,
     "metadata": {},
     "output_type": "execute_result"
    }
   ],
   "execution_count": 120
  },
  {
   "cell_type": "markdown",
   "id": "d68ce763",
   "metadata": {
    "pycharm": {
     "name": "#%% md\n"
    }
   },
   "source": [
    "Plot the scores of the molecules selected in each active learning round.  Remember that the first active learning cycle was randomly selected. "
   ]
  },
  {
   "cell_type": "code",
   "id": "9366f78c",
   "metadata": {
    "pycharm": {
     "name": "#%%\n"
    },
    "ExecuteTime": {
     "end_time": "2025-01-20T01:10:35.443435Z",
     "start_time": "2025-01-20T01:10:35.389316Z"
    }
   },
   "source": [
    "ax = sns.boxplot(x=\"cycle\", y=value_column, data=res_df,color=\"lightblue\")\n",
    "ax.set_xlabel(\"Active Learning Cycle\");"
   ],
   "outputs": [
    {
     "data": {
      "text/plain": [
       "<Figure size 640x480 with 1 Axes>"
      ],
      "image/png": "[encoded data removed]"
     },
     "metadata": {},
     "output_type": "display_data"
    }
   ],
   "execution_count": 121
  },
  {
   "cell_type": "markdown",
   "id": "b1faec23",
   "metadata": {
    "pycharm": {
     "name": "#%% md\n"
    }
   },
   "source": [
    "Now let's plot the distributions for the top 100 molecules from the input data vs the top 100 found using active learning."
   ]
  },
  {
   "cell_type": "code",
   "id": "bf64efc0",
   "metadata": {
    "pycharm": {
     "name": "#%%\n"
    },
    "ExecuteTime": {
     "end_time": "2025-01-20T01:10:37.874413Z",
     "start_time": "2025-01-20T01:10:37.831104Z"
    }
   },
   "source": [
    "# Get a dataframe with the top 100 reference molecules\n",
    "ref_top_100 = ref_df.sort_values(\"Activity\",ascending=False).head(100).copy()\n",
    "ref_top_100['Dataset'] = 'Reference'\n",
    "# Get a dataframe with top 100 molecules predicted by active learning\n",
    "pred_top_100 = res_df.sort_values(\"Activity\",ascending=False).head(100).copy()\n",
    "pred_top_100['Dataset'] = 'Active Learning'\n",
    "# Make a boxplot comparing the scores of the top 100 molecules\n",
    "ax = sns.boxplot(x=\"Dataset\", y=\"Activity\", data=pd.concat([ref_top_100,pred_top_100]),color=\"lightblue\");\n",
    "ax.set_ylabel(\"Activity\");"
   ],
   "outputs": [
    {
     "data": {
      "text/plain": [
       "<Figure size 640x480 with 1 Axes>"
      ],
      "image/png": "[encoded data removed]"
     },
     "metadata": {},
     "output_type": "display_data"
    }
   ],
   "execution_count": 122
  },
  {
   "cell_type": "markdown",
   "id": "6f607c2b",
   "metadata": {
    "pycharm": {
     "name": "#%%\n"
    }
   },
   "source": [
    "We can also compare the scores of the molecules selected by active learning with scores from randomly selected molecules. "
   ]
  },
  {
   "cell_type": "code",
   "id": "59ec5da3",
   "metadata": {
    "pycharm": {
     "name": "#%%\n"
    },
    "ExecuteTime": {
     "end_time": "2025-01-20T01:10:40.257188Z",
     "start_time": "2025-01-20T01:10:40.209996Z"
    }
   },
   "source": [
    "# Take a random sample from the input data that is the same size as the dataframe with the selected molecules\n",
    "random_df = df.sample(len(res_df)).copy()\n",
    "random_df['Dataset'] = 'Random'\n",
    "# Label the active learning data\n",
    "res_df['Dataset'] = 'Active Learning'\n",
    "ax = sns.boxplot(x=\"Dataset\", y=\"Activity\", data=pd.concat([random_df,res_df]),color=\"lightblue\");\n",
    "ax.set_ylabel(\"Activity\");"
   ],
   "outputs": [
    {
     "data": {
      "text/plain": [
       "<Figure size 640x480 with 1 Axes>"
      ],
      "image/png": "[encoded data removed]"
     },
     "metadata": {},
     "output_type": "display_data"
    }
   ],
   "execution_count": 123
  },
  {
   "metadata": {},
   "cell_type": "markdown",
   "source": [
    "### Running a Second Active Learning Experiment\n",
    "In this experiment, we'll remove the molecules similar to those selected in the first experiment and run a second active learning experiment.  \n",
    "We start by calculating the Morgan fingerprints for the molecules in the input data and the molecules selected in the first experiment."
   ],
   "id": "765b90bf83673235"
  },
  {
   "cell_type": "code",
   "id": "0865c777",
   "metadata": {
    "ExecuteTime": {
     "end_time": "2025-01-20T01:13:58.984159Z",
     "start_time": "2025-01-20T01:13:58.138628Z"
    }
   },
   "source": [
    "smi2fp = uru.Smi2Fp()\n",
    "df['morgan_fp'] = df.SMILES.progress_apply(smi2fp.get_fp)\n",
    "res_df['morgan_fp'] = res_df.SMILES.progress_apply(smi2fp.get_fp)\n"
   ],
   "outputs": [
    {
     "data": {
      "text/plain": [
       "  0%|          | 0/9997 [00:00<?, ?it/s]"
      ],
      "application/vnd.jupyter.widget-view+json": {
       "version_major": 2,
       "version_minor": 0,
       "model_id": "a22f215914c64abcb69cd8ba3abc8456"
      }
     },
     "metadata": {},
     "output_type": "display_data"
    },
    {
     "data": {
      "text/plain": [
       "  0%|          | 0/300 [00:00<?, ?it/s]"
      ],
      "application/vnd.jupyter.widget-view+json": {
       "version_major": 2,
       "version_minor": 0,
       "model_id": "7c1be32707fe41a5823b1a36a003e3d1"
      }
     },
     "metadata": {},
     "output_type": "display_data"
    }
   ],
   "execution_count": 147
  },
  {
   "metadata": {},
   "cell_type": "markdown",
   "source": "Calculate the maximum similarity between the molecules in the input data and the molecules selected in the first experiment.",
   "id": "f29a0a2ca60c6602"
  },
  {
   "metadata": {
    "ExecuteTime": {
     "end_time": "2025-01-20T01:14:14.146832Z",
     "start_time": "2025-01-20T01:14:13.635661Z"
    }
   },
   "cell_type": "code",
   "source": [
    "sim_list = []\n",
    "for fp in tqdm(df.morgan_fp.values):\n",
    "    sim_vals = BulkTanimotoSimilarity(fp,res_df.morgan_fp.values)\n",
    "    sim_list.append(max(sim_vals))\n",
    "df['max_sim'] = sim_list"
   ],
   "id": "dd2347820e29ce9c",
   "outputs": [
    {
     "data": {
      "text/plain": [
       "  0%|          | 0/9997 [00:00<?, ?it/s]"
      ],
      "application/vnd.jupyter.widget-view+json": {
       "version_major": 2,
       "version_minor": 0,
       "model_id": "1f2a5ba31db443bcb58430b58ada31fb"
      }
     },
     "metadata": {},
     "output_type": "display_data"
    }
   ],
   "execution_count": 148
  },
  {
   "metadata": {},
   "cell_type": "markdown",
   "source": "Plot the distribution of the maximum similarity values.",
   "id": "3225b5cd670411c5"
  },
  {
   "metadata": {
    "ExecuteTime": {
     "end_time": "2025-01-20T01:14:19.617305Z",
     "start_time": "2025-01-20T01:14:19.527731Z"
    }
   },
   "cell_type": "code",
   "source": "sns.displot(df.max_sim);",
   "id": "7c2c44e760a74d06",
   "outputs": [
    {
     "data": {
      "text/plain": [
       "<Figure size 500x500 with 1 Axes>"
      ],
      "image/png": "[encoded data removed]"
     },
     "metadata": {},
     "output_type": "display_data"
    }
   ],
   "execution_count": 149
  },
  {
   "metadata": {},
   "cell_type": "markdown",
   "source": "Select the molecules with a maximum similarity less than 0.9 and run a second active learning experiment.",
   "id": "d6fdbc057227c7c"
  },
  {
   "metadata": {
    "ExecuteTime": {
     "end_time": "2025-01-20T01:24:51.298917Z",
     "start_time": "2025-01-20T01:24:46.336694Z"
    }
   },
   "cell_type": "code",
   "source": [
    "df_2 = df.query(\"max_sim < 0.90\").copy()\n",
    "value_column_2 = \"Activity\"\n",
    "oracle_2 = Oracle(df_2, value_column_2)\n",
    "val_list_2, used_2 = run_active_learning(oracle_2, n_instances=50, n_cycles=5, query_strategy=my_max_PI)"
   ],
   "id": "96fec3a36ca7c78f",
   "outputs": [
    {
     "data": {
      "text/plain": [
       "  0%|          | 0/5 [00:00<?, ?it/s]"
      ],
      "application/vnd.jupyter.widget-view+json": {
       "version_major": 2,
       "version_minor": 0,
       "model_id": "5d89e08939864d599778a23f77180ffd"
      }
     },
     "metadata": {},
     "output_type": "display_data"
    }
   ],
   "execution_count": 159
  },
  {
   "metadata": {},
   "cell_type": "markdown",
   "source": "See how many of the top 100 molecules we found.",
   "id": "da7d78e5970450a8"
  },
  {
   "metadata": {
    "ExecuteTime": {
     "end_time": "2025-01-20T01:24:53.232192Z",
     "start_time": "2025-01-20T01:24:53.227409Z"
    }
   },
   "cell_type": "code",
   "source": [
    "res_df_2 = df.iloc[used_2]\n",
    "len(res_df_2.query(\"ligand_id in @ref_df.ligand_id\"))"
   ],
   "id": "6add55e837d3461f",
   "outputs": [
    {
     "data": {
      "text/plain": [
       "3"
      ]
     },
     "execution_count": 160,
     "metadata": {},
     "output_type": "execute_result"
    }
   ],
   "execution_count": 160
  },
  {
   "metadata": {},
   "cell_type": "code",
   "outputs": [],
   "execution_count": null,
   "source": "",
   "id": "8de1348bf15e1085"
  }
 ],
 "metadata": {
  "kernelspec": {
   "display_name": "Python 3 (ipykernel)",
   "language": "python",
   "name": "python3"
  },
  "language_info": {
   "codemirror_mode": {
    "name": "ipython",
    "version": 3
   },
   "file_extension": ".py",
   "mimetype": "text/x-python",
   "name": "python",
   "nbconvert_exporter": "python",
   "pygments_lexer": "ipython3",
   "version": "3.11.3"
  }
 },
 "nbformat": 4,
 "nbformat_minor": 5
}
